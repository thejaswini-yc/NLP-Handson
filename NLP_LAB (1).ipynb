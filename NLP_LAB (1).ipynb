{
 "cells": [
  {
   "cell_type": "markdown",
   "metadata": {},
   "source": [
    "# TASK 1 Download NLTK and inport brown corpus\n",
    "\n",
    "import nltk"
   ]
  },
  {
   "cell_type": "code",
   "execution_count": 3,
   "metadata": {},
   "outputs": [],
   "source": [
    "import nltk"
   ]
  },
  {
   "cell_type": "code",
   "execution_count": 4,
   "metadata": {},
   "outputs": [
    {
     "name": "stdout",
     "output_type": "stream",
     "text": [
      "showing info https://raw.githubusercontent.com/nltk/nltk_data/gh-pages/index.xml\n"
     ]
    },
    {
     "data": {
      "text/plain": [
       "True"
      ]
     },
     "execution_count": 4,
     "metadata": {},
     "output_type": "execute_result"
    }
   ],
   "source": [
    "nltk.download()\n",
    "#nltk package download"
   ]
  },
  {
   "cell_type": "code",
   "execution_count": 5,
   "metadata": {},
   "outputs": [
    {
     "name": "stdout",
     "output_type": "stream",
     "text": [
      "*** Introductory Examples for the NLTK Book ***\n",
      "Loading text1, ..., text9 and sent1, ..., sent9\n",
      "Type the name of the text or sentence to view it.\n",
      "Type: 'texts()' or 'sents()' to list the materials.\n",
      "text1: Moby Dick by Herman Melville 1851\n",
      "text2: Sense and Sensibility by Jane Austen 1811\n",
      "text3: The Book of Genesis\n",
      "text4: Inaugural Address Corpus\n",
      "text5: Chat Corpus\n",
      "text6: Monty Python and the Holy Grail\n",
      "text7: Wall Street Journal\n",
      "text8: Personals Corpus\n",
      "text9: The Man Who Was Thursday by G . K . Chesterton 1908\n"
     ]
    }
   ],
   "source": [
    "from nltk.book import *"
   ]
  },
  {
   "cell_type": "markdown",
   "metadata": {},
   "source": [
    "# TASK 2 - import brown corpus and accessing data\n"
   ]
  },
  {
   "cell_type": "code",
   "execution_count": 6,
   "metadata": {},
   "outputs": [
    {
     "data": {
      "text/plain": [
       "['adventure',\n",
       " 'belles_lettres',\n",
       " 'editorial',\n",
       " 'fiction',\n",
       " 'government',\n",
       " 'hobbies',\n",
       " 'humor',\n",
       " 'learned',\n",
       " 'lore',\n",
       " 'mystery',\n",
       " 'news',\n",
       " 'religion',\n",
       " 'reviews',\n",
       " 'romance',\n",
       " 'science_fiction']"
      ]
     },
     "execution_count": 6,
     "metadata": {},
     "output_type": "execute_result"
    }
   ],
   "source": [
    "from nltk.corpus import brown \n",
    "brown.categories()"
   ]
  },
  {
   "cell_type": "code",
   "execution_count": 7,
   "metadata": {},
   "outputs": [
    {
     "data": {
      "text/plain": [
       "['Assembly',\n",
       " 'session',\n",
       " 'brought',\n",
       " 'much',\n",
       " 'good',\n",
       " 'The',\n",
       " 'General',\n",
       " 'Assembly',\n",
       " ',',\n",
       " 'which',\n",
       " 'adjourns',\n",
       " 'today',\n",
       " ',',\n",
       " 'has',\n",
       " 'performed',\n",
       " 'in',\n",
       " 'an',\n",
       " 'atmosphere',\n",
       " 'of',\n",
       " 'crisis',\n",
       " 'and',\n",
       " 'struggle',\n",
       " 'from',\n",
       " 'the',\n",
       " 'day',\n",
       " 'it',\n",
       " 'convened',\n",
       " '.',\n",
       " 'It',\n",
       " 'was']"
      ]
     },
     "execution_count": 7,
     "metadata": {},
     "output_type": "execute_result"
    }
   ],
   "source": [
    "#Looking up the words in editorial category\n",
    "brown.words(categories='editorial')[:30]"
   ]
  },
  {
   "cell_type": "markdown",
   "metadata": {},
   "source": [
    "# TASK 3 import inaugural corpus and access data\n",
    "\n",
    "#this includes every president's inaugural address from 1789 to 2017\n",
    "\n"
   ]
  },
  {
   "cell_type": "code",
   "execution_count": 9,
   "metadata": {},
   "outputs": [
    {
     "data": {
      "text/plain": [
       "['Chief',\n",
       " 'Justice',\n",
       " 'Roberts',\n",
       " ',',\n",
       " 'President',\n",
       " 'Carter',\n",
       " ',',\n",
       " 'President',\n",
       " 'Clinton',\n",
       " ',',\n",
       " 'President',\n",
       " 'Bush',\n",
       " ',',\n",
       " 'President',\n",
       " 'Obama',\n",
       " ',',\n",
       " 'fellow',\n",
       " 'Americans',\n",
       " ',',\n",
       " 'and',\n",
       " 'people',\n",
       " 'of',\n",
       " 'the',\n",
       " 'world',\n",
       " ':',\n",
       " 'Thank',\n",
       " 'you',\n",
       " '.',\n",
       " 'We',\n",
       " ',',\n",
       " 'the',\n",
       " 'citizens',\n",
       " 'of',\n",
       " 'America',\n",
       " ',',\n",
       " 'are',\n",
       " 'now',\n",
       " 'joined',\n",
       " 'in',\n",
       " 'a',\n",
       " 'great',\n",
       " 'national',\n",
       " 'effort',\n",
       " 'to',\n",
       " 'rebuild',\n",
       " 'our',\n",
       " 'country',\n",
       " 'and',\n",
       " 'restore',\n",
       " 'its']"
      ]
     },
     "execution_count": 9,
     "metadata": {},
     "output_type": "execute_result"
    }
   ],
   "source": [
    "from nltk.corpus import inaugural\n",
    "inaugural.fileids()\n",
    "\n",
    "inaugural.words(fileids = '2017-Trump.txt')[:50]\n",
    "#Speech by Trump in 2017 "
   ]
  },
  {
   "cell_type": "code",
   "execution_count": 10,
   "metadata": {},
   "outputs": [
    {
     "data": {
      "text/plain": [
       "['Fellow',\n",
       " '-',\n",
       " 'Citizens',\n",
       " 'of',\n",
       " 'the',\n",
       " 'United',\n",
       " 'States',\n",
       " ':',\n",
       " 'In',\n",
       " 'compliance',\n",
       " 'with',\n",
       " 'a',\n",
       " 'custom',\n",
       " 'as',\n",
       " 'old',\n",
       " 'as',\n",
       " 'the',\n",
       " 'Government',\n",
       " 'itself',\n",
       " ',',\n",
       " 'I',\n",
       " 'appear',\n",
       " 'before',\n",
       " 'you',\n",
       " 'to',\n",
       " 'address',\n",
       " 'you',\n",
       " 'briefly',\n",
       " 'and',\n",
       " 'to',\n",
       " 'take',\n",
       " 'in',\n",
       " 'your',\n",
       " 'presence',\n",
       " 'the',\n",
       " 'oath',\n",
       " 'prescribed',\n",
       " 'by',\n",
       " 'the',\n",
       " 'Constitution',\n",
       " 'of',\n",
       " 'the',\n",
       " 'United',\n",
       " 'States',\n",
       " 'to',\n",
       " 'be',\n",
       " 'taken',\n",
       " 'by',\n",
       " 'the',\n",
       " 'President']"
      ]
     },
     "execution_count": 10,
     "metadata": {},
     "output_type": "execute_result"
    }
   ],
   "source": [
    "inaugural.words(fileids = '1861-Lincoln.txt')[:50]\n",
    "#Speech by lincoln in 1861"
   ]
  },
  {
   "cell_type": "markdown",
   "metadata": {},
   "source": [
    "# Task 4 : Importing Webtext corpus and access data\n",
    "\n",
    "from nltk.corpus import webtext\n",
    "webtext.fileids()\n",
    "\n",
    "for fileid in webtext.fileids():\n",
    "    print(fileid, webtext.raw(fileid)[:])"
   ]
  },
  {
   "cell_type": "code",
   "execution_count": 11,
   "metadata": {},
   "outputs": [
    {
     "data": {
      "text/plain": [
       "['firefox.txt',\n",
       " 'grail.txt',\n",
       " 'overheard.txt',\n",
       " 'pirates.txt',\n",
       " 'singles.txt',\n",
       " 'wine.txt']"
      ]
     },
     "execution_count": 11,
     "metadata": {},
     "output_type": "execute_result"
    }
   ],
   "source": [
    "webtext.fileids()"
   ]
  },
  {
   "cell_type": "code",
   "execution_count": 12,
   "metadata": {},
   "outputs": [],
   "source": [
    " #Task 5: Frequency Distribution of words in text\n",
    "    \n",
    "sampletext =''' Born in Nine Mile, British Jamaica, Marley began his professional musical career in 1963, after forming Bob Marley and the Wailers. The group released its debut studio album The Wailing Wailers in 1965, which contained the single \"One Love/People Get Ready\"; the song was popular worldwide, and established the group as a rising figure in reggae.[8] The Wailers subsequently released eleven further studio albums; while initially employing louder instrumentation and singing, the group began engaging in rhythmic-based song construction in the late 1960s and early 1970s, which coincided with the singer's conversion to Rastafarianism. During this period Marley relocated to London, and the group typified their musical shift with the release of the album The Best of The Wailers (1971).[9]\n",
    "The group attained international success after the release of the albums Catch a Fire and Burnin' (both 1973), and forged a reputation as touring artists. Following the disbandment of the Wailers a year later, Marley went on to release his solo material under the band's name.[10] His debut studio album Natty Dread (1974) received positive reception, as did its follow-up Rastaman Vibration (1976). A few months after the album's release Marley survived an assassination attempt at his home in Jamaica, which prompted him to permanently relocate to London. During his time in London he recorded the album Exodus (1977); it incorporated elements of blues, soul, and British rock, enjoyed widespread commercial and critical success.\n",
    "In 1977, Marley was diagnosed with acral lentiginous melanoma; he died as a result of the illness in 1981. His fans around the world expressed their grief, and he received a state funeral in Jamaica. The greatest hits album Legend was released in 1984, and became the best-selling reggae album of all time.[11] Marley also ranks as one of the best-selling music artists of all time, with estimated sales of more than 75 million records worldwide.[12] He was posthumously honored by Jamaica soon after his death with a designated Order of Merit by his nation. In 1994, he was inducted into the Rock and Roll Hall of Fame. Rolling Stone ranked him No. 11 on its list of the 100 Greatest Artists of All Time.'''\n",
    "fd = nltk.FreqDist(sampletext.split())\n"
   ]
  },
  {
   "cell_type": "code",
   "execution_count": 13,
   "metadata": {},
   "outputs": [
    {
     "data": {
      "text/plain": [
       "FreqDist({'the': 23, 'of': 14, 'and': 12, 'in': 11, 'Marley': 7, 'The': 7, 'a': 7, 'his': 6, 'album': 6, 'group': 5, ...})"
      ]
     },
     "execution_count": 13,
     "metadata": {},
     "output_type": "execute_result"
    }
   ],
   "source": [
    "fd"
   ]
  },
  {
   "cell_type": "code",
   "execution_count": 14,
   "metadata": {},
   "outputs": [
    {
     "data": {
      "text/plain": [
       "FreqDist({'Love/People': 1, 'established': 1, 'disbandment': 1, 'permanently': 1, 'lentiginous': 1})"
      ]
     },
     "execution_count": 14,
     "metadata": {},
     "output_type": "execute_result"
    }
   ],
   "source": [
    "#Task 6. Conditional Frequency Distribution of words in a text\n",
    "from nltk.probability import ConditionalFreqDist\n",
    "cfd = ConditionalFreqDist((len(word),word) for word in sampletext.split())\n",
    "cfd[11]"
   ]
  },
  {
   "cell_type": "code",
   "execution_count": 15,
   "metadata": {},
   "outputs": [
    {
     "data": {
      "text/plain": [
       "FreqDist({'released': 3, 'Jamaica,': 2, 'received': 2, 'Wailers.': 1, 'singing,': 1, 'engaging': 1, \"singer's\": 1, 'typified': 1, 'attained': 1, 'artists.': 1, ...})"
      ]
     },
     "execution_count": 15,
     "metadata": {},
     "output_type": "execute_result"
    }
   ],
   "source": [
    "cfd = ConditionalFreqDist((len(word),word) for word in sampletext.split())\n",
    "cfd[8]"
   ]
  },
  {
   "cell_type": "markdown",
   "metadata": {},
   "source": [
    "# HOMEWORK PROBLEM\n",
    "\n"
   ]
  },
  {
   "cell_type": "code",
   "execution_count": 17,
   "metadata": {},
   "outputs": [
    {
     "data": {
      "text/plain": [
       "FreqDist({'Union': 19, 'which': 18, 'shall': 16, 'there': 14, 'their': 14, 'right': 11, 'while': 10, 'other': 10, 'would': 10, 'State': 8, ...})"
      ]
     },
     "execution_count": 17,
     "metadata": {},
     "output_type": "execute_result"
    }
   ],
   "source": [
    "speech = inaugural.words(fileids = '1861-Lincoln.txt')\n",
    "cdf = ConditionalFreqDist((len(word), word) for word in speech)\n",
    "cdf[4]\n",
    "cdf[5]"
   ]
  },
  {
   "cell_type": "code",
   "execution_count": 18,
   "metadata": {},
   "outputs": [
    {
     "data": {
      "text/plain": [
       "FreqDist({'people': 20, 'States': 19, 'itself': 7, 'before': 6, 'should': 6, 'either': 6, 'United': 5, 'clause': 5, 'object': 5, 'proper': 4, ...})"
      ]
     },
     "execution_count": 18,
     "metadata": {},
     "output_type": "execute_result"
    }
   ],
   "source": [
    "cdf[6]"
   ]
  },
  {
   "cell_type": "code",
   "execution_count": 19,
   "metadata": {},
   "outputs": [],
   "source": [
    "speech1 = []\n",
    "for words in speech:\n",
    "    if len(words)>4:\n",
    "        speech1.append(words)"
   ]
  },
  {
   "cell_type": "code",
   "execution_count": 20,
   "metadata": {},
   "outputs": [],
   "source": [
    "fd = nltk.FreqDist(speech1)"
   ]
  },
  {
   "cell_type": "code",
   "execution_count": 21,
   "metadata": {},
   "outputs": [
    {
     "data": {
      "text/plain": [
       "FreqDist({'Constitution': 24, 'people': 20, 'States': 19, 'Union': 19, 'which': 18, 'Government': 16, 'shall': 16, 'there': 14, 'their': 14, 'right': 11, ...})"
      ]
     },
     "execution_count": 21,
     "metadata": {},
     "output_type": "execute_result"
    }
   ],
   "source": [
    "fd"
   ]
  },
  {
   "cell_type": "code",
   "execution_count": 22,
   "metadata": {},
   "outputs": [],
   "source": [
    "sorted_fd = sorted(fd.items(), key = lambda x:x[1])"
   ]
  },
  {
   "cell_type": "code",
   "execution_count": 23,
   "metadata": {},
   "outputs": [],
   "source": [
    "fw = list(sorted_fd)[len(sorted_fd)-1]"
   ]
  },
  {
   "cell_type": "code",
   "execution_count": 24,
   "metadata": {},
   "outputs": [
    {
     "name": "stdout",
     "output_type": "stream",
     "text": [
      "Most Used used word : ('Constitution', 24)\n"
     ]
    }
   ],
   "source": [
    "print(\"Most Used used word :\",fw)"
   ]
  },
  {
   "cell_type": "code",
   "execution_count": null,
   "metadata": {},
   "outputs": [],
   "source": []
  }
 ],
 "metadata": {
  "kernelspec": {
   "display_name": "Python 3",
   "language": "python",
   "name": "python3"
  },
  "language_info": {
   "codemirror_mode": {
    "name": "ipython",
    "version": 3
   },
   "file_extension": ".py",
   "mimetype": "text/x-python",
   "name": "python",
   "nbconvert_exporter": "python",
   "pygments_lexer": "ipython3",
   "version": "3.7.4"
  }
 },
 "nbformat": 4,
 "nbformat_minor": 2
}
